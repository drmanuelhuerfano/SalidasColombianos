{
  "nbformat": 4,
  "nbformat_minor": 0,
  "metadata": {
    "colab": {
      "provenance": [],
      "authorship_tag": "ABX9TyPu5TaiGANm3KJkCb7IeQXb",
      "include_colab_link": true
    },
    "kernelspec": {
      "name": "python3",
      "display_name": "Python 3"
    },
    "language_info": {
      "name": "python"
    }
  },
  "cells": [
    {
      "cell_type": "markdown",
      "metadata": {
        "id": "view-in-github",
        "colab_type": "text"
      },
      "source": [
        "<a href=\"https://colab.research.google.com/github/drmanuelhuerfano/SalidasColombianos/blob/main/Taller_Extracci%C3%B3n_repositorio_analisisMH.ipynb\" target=\"_parent\"><img src=\"https://colab.research.google.com/assets/colab-badge.svg\" alt=\"Open In Colab\"/></a>"
      ]
    },
    {
      "cell_type": "markdown",
      "source": [
        "---\n",
        "\n",
        "\n",
        "<h2>Taller Extracción y repositorio de análisis</h2>\n",
        "\n",
        "\n",
        "---\n",
        "\n",
        "\n",
        "**Preparación de datos**\n",
        "\n",
        "**Especialización en Inteligencia Artificial**\n",
        "\n",
        "**Pontificia Universidad Javeriana**\n",
        "\n",
        "### **GRUPO 1**\n",
        "\n",
        "### Integrantes:\n",
        "Leidy Milena Carrillo Hernández - leidy.carrilloh@javeriana.edu.co <br>\n",
        "Juan Gabriel Ibarra España - ju_ibarra@javeriana.edu.co <br>\n",
        "Carlos José Guerrero Silva - carlosj-guerrero@javeriana.edu.co <br>\n",
        "Manuel Alejandro Huérfano Castro - huerfanom@javeriana.edu.co <br>\n",
        "Cesar Augusto González Cortes - ca.gonzalezc@javeriana.edu.co"
      ],
      "metadata": {
        "id": "82OckrDZdgqR"
      }
    },
    {
      "cell_type": "code",
      "execution_count": 40,
      "metadata": {
        "id": "Z_Uka1P61_Y3"
      },
      "outputs": [],
      "source": [
        "import pandas as pd\n",
        "import requests\n",
        "import json"
      ]
    },
    {
      "cell_type": "markdown",
      "source": [
        "Se carga el archivo CSV, previamente se habia descargardo el archivo que originalmente esta en Excel y se guardo como CSV, posterior a esto se deja en una cuenta de Github para facilitar la carga"
      ],
      "metadata": {
        "id": "Kln6j6Ycd-AW"
      }
    },
    {
      "cell_type": "code",
      "source": [
        "# Cargar el archivo CSV desde la URL con el delimitador para ';' subida en github\n",
        "url_csv = 'https://raw.githubusercontent.com/drmanuelhuerfano/SalidasColombianos/main/Salidas_de_colombianos_desde_el_territorio_nacional.csv'\n",
        "salidas_df = pd.read_csv(url_csv, delimiter=';')\n",
        "\n",
        "# Mostrar las primeras filas del DataFrame para verificar la carga correcta\n",
        "print(salidas_df.head())"
      ],
      "metadata": {
        "colab": {
          "base_uri": "https://localhost:8080/"
        },
        "id": "1Lk7wUk52Ezt",
        "outputId": "1faad842-85f7-4ef1-ba96-a475d2d8daff"
      },
      "execution_count": 41,
      "outputs": [
        {
          "output_type": "stream",
          "name": "stdout",
          "text": [
            "   Year    Mes Pais-destino  Codigo Iso 3166  Femenino  Masculino  Indefinido  \\\n",
            "0  2012  Enero   Afganistan                4         0          1         NaN   \n",
            "1  2012  Enero   Afganistan                4         1         20         NaN   \n",
            "2  2012  Enero     Alemania              276         1          0         NaN   \n",
            "3  2012  Enero     Alemania              276         5          2         NaN   \n",
            "4  2012  Enero     Alemania              276         3          2         NaN   \n",
            "\n",
            "   Total      Latitud - Longitud  \n",
            "0      1  (10.886611,-74.776708)  \n",
            "1     21   (4.697144,-74.140516)  \n",
            "2      1   (0.814836,-77.662532)  \n",
            "3      7  (10.445761,-75.516429)  \n",
            "4      5  (10.886611,-74.776708)  \n"
          ]
        }
      ]
    },
    {
      "cell_type": "code",
      "source": [
        "# Mostrar todas las columnas del DataFrame para verificar los nombres\n",
        "print(salidas_df.columns)"
      ],
      "metadata": {
        "colab": {
          "base_uri": "https://localhost:8080/"
        },
        "id": "wNK8-CtI2J-V",
        "outputId": "9c257f70-4d1f-4263-8283-31924e92b8f0"
      },
      "execution_count": 42,
      "outputs": [
        {
          "output_type": "stream",
          "name": "stdout",
          "text": [
            "Index(['Year', 'Mes', 'Pais-destino', 'Codigo Iso 3166', 'Femenino',\n",
            "       'Masculino', 'Indefinido', 'Total', 'Latitud - Longitud'],\n",
            "      dtype='object')\n"
          ]
        }
      ]
    },
    {
      "cell_type": "code",
      "source": [
        "# Verificar el tipo de dato de una columna específica\n",
        "tipo_columna = salidas_df['Codigo Iso 3166'].dtype\n",
        "print(f\"El tipo de dato de la columna 'Codigo Iso 3166' es: {tipo_columna}\")\n"
      ],
      "metadata": {
        "colab": {
          "base_uri": "https://localhost:8080/"
        },
        "id": "0dXnVw6Ei8nK",
        "outputId": "0299cd4b-fc23-4b4c-8a67-fe528de61a54"
      },
      "execution_count": 43,
      "outputs": [
        {
          "output_type": "stream",
          "name": "stdout",
          "text": [
            "El tipo de dato de la columna 'Codigo Iso 3166' es: int64\n"
          ]
        }
      ]
    },
    {
      "cell_type": "markdown",
      "source": [
        "Se convierte a cadena de texto para que no exista conflicto despues con el diccionario que sale del JSON"
      ],
      "metadata": {
        "id": "UXSjmYuPn7Sy"
      }
    },
    {
      "cell_type": "code",
      "source": [
        "# Convertir la columna 'Codigo Iso 3166' a tipo cadena de texto\n",
        "salidas_df['Codigo Iso 3166'] = salidas_df['Codigo Iso 3166'].astype(str)"
      ],
      "metadata": {
        "id": "uotGYut2jc5S"
      },
      "execution_count": 44,
      "outputs": []
    },
    {
      "cell_type": "markdown",
      "source": [
        "Se carga el JSON desde la API Restcountries.com"
      ],
      "metadata": {
        "id": "PpsXbcfeeUCo"
      }
    },
    {
      "cell_type": "code",
      "source": [
        "# Hacer la solicitud a la API de REST Countries para obtener todos los países\n",
        "url = 'https://restcountries.com/v3.1/all'\n",
        "response = requests.get(url)\n",
        "\n",
        "# Verificar si la solicitud fue exitosa\n",
        "if response.status_code == 200:\n",
        "    countries_data = response.json()\n",
        "    print(\"Datos de la API cargados exitosamente\")\n",
        "else:\n",
        "    print(\"Error al cargar los datos de la API:\", response.status_code)\n",
        "\n",
        "# Crear un DataFrame a partir de los datos de la API\n",
        "countries_df = pd.json_normalize(countries_data)\n",
        "\n",
        "# Mostrar las columnas disponibles en el DataFrame para entender su estructura\n",
        "print(countries_df.columns)\n"
      ],
      "metadata": {
        "colab": {
          "base_uri": "https://localhost:8080/"
        },
        "id": "N5MIqmPP2M2L",
        "outputId": "4547176e-b03d-4323-96da-575f6741f7a0"
      },
      "execution_count": 45,
      "outputs": [
        {
          "output_type": "stream",
          "name": "stdout",
          "text": [
            "Datos de la API cargados exitosamente\n",
            "Index(['tld', 'cca2', 'ccn3', 'cca3', 'independent', 'status', 'unMember',\n",
            "       'capital', 'altSpellings', 'region',\n",
            "       ...\n",
            "       'name.nativeName.heb.common', 'languages.heb',\n",
            "       'name.nativeName.mri.official', 'name.nativeName.mri.common',\n",
            "       'name.nativeName.nzs.official', 'name.nativeName.nzs.common',\n",
            "       'languages.mri', 'languages.nzs', 'currencies.NIO.name',\n",
            "       'currencies.NIO.symbol'],\n",
            "      dtype='object', length=896)\n"
          ]
        }
      ]
    },
    {
      "cell_type": "markdown",
      "source": [
        "Ahora se crea un Diccionario para Mapear Países a Subregiones"
      ],
      "metadata": {
        "id": "Oz2k9aZne4iY"
      }
    },
    {
      "cell_type": "code",
      "source": [
        "# Crear un diccionario para mapear cada país a su subregión\n",
        "country_to_subregion = countries_df.set_index('name.common')['subregion'].to_dict()\n",
        "\n",
        "# Mostrar una muestra del diccionario para verificar\n",
        "print(list(country_to_subregion.items())[:10])\n"
      ],
      "metadata": {
        "colab": {
          "base_uri": "https://localhost:8080/"
        },
        "id": "U9TPZM3A2aUb",
        "outputId": "e701b20f-bff8-4979-ab53-365ec1812baa"
      },
      "execution_count": 46,
      "outputs": [
        {
          "output_type": "stream",
          "name": "stdout",
          "text": [
            "[('South Georgia', nan), ('Grenada', 'Caribbean'), ('Switzerland', 'Western Europe'), ('Sierra Leone', 'Western Africa'), ('Hungary', 'Central Europe'), ('Taiwan', 'Eastern Asia'), ('Wallis and Futuna', 'Polynesia'), ('Barbados', 'Caribbean'), ('Pitcairn Islands', 'Polynesia'), ('Ivory Coast', 'Western Africa')]\n"
          ]
        }
      ]
    },
    {
      "cell_type": "markdown",
      "source": [
        "Como vamos a trabajar con los codigos ISO 3166 vamos a crear una lista en formato JSON con las columnas de interés obtenidas de la API de REST Countries."
      ],
      "metadata": {
        "id": "m7emhY8ZgEEH"
      }
    },
    {
      "cell_type": "code",
      "source": [
        "# Crear una lista para almacenar el JSON con las columnas de interés\n",
        "json_list = []\n",
        "\n",
        "# Recorrer los datos de la API de REST Countries\n",
        "for entry in countries_data:\n",
        "    # Añadir los elementos al JSON solo si la entrada contiene los campos necesarios\n",
        "    if 'name' in entry and 'common' in entry['name'] and 'subregion' in entry and 'ccn3' in entry:\n",
        "        json_list.append({\n",
        "            'Pais destino': entry['name']['common'],   # Nombre común del país\n",
        "            'subregion': entry['subregion'],           # Subregión\n",
        "            'Codigo Iso 3166': entry['ccn3']           # Código ISO 3166\n",
        "        })\n",
        "\n",
        "# Mostrar el JSON creado\n",
        "print(\"El nuevo JSON es:\\n\")\n",
        "print(json_list)\n"
      ],
      "metadata": {
        "colab": {
          "base_uri": "https://localhost:8080/"
        },
        "id": "si0IrEay2g2A",
        "outputId": "a424c833-59b1-4440-9da3-e580ccd3a7dc"
      },
      "execution_count": 47,
      "outputs": [
        {
          "output_type": "stream",
          "name": "stdout",
          "text": [
            "El nuevo JSON es:\n",
            "\n",
            "[{'Pais destino': 'Grenada', 'subregion': 'Caribbean', 'Codigo Iso 3166': '308'}, {'Pais destino': 'Switzerland', 'subregion': 'Western Europe', 'Codigo Iso 3166': '756'}, {'Pais destino': 'Sierra Leone', 'subregion': 'Western Africa', 'Codigo Iso 3166': '694'}, {'Pais destino': 'Hungary', 'subregion': 'Central Europe', 'Codigo Iso 3166': '348'}, {'Pais destino': 'Taiwan', 'subregion': 'Eastern Asia', 'Codigo Iso 3166': '158'}, {'Pais destino': 'Wallis and Futuna', 'subregion': 'Polynesia', 'Codigo Iso 3166': '876'}, {'Pais destino': 'Barbados', 'subregion': 'Caribbean', 'Codigo Iso 3166': '052'}, {'Pais destino': 'Pitcairn Islands', 'subregion': 'Polynesia', 'Codigo Iso 3166': '612'}, {'Pais destino': 'Ivory Coast', 'subregion': 'Western Africa', 'Codigo Iso 3166': '384'}, {'Pais destino': 'Tunisia', 'subregion': 'Northern Africa', 'Codigo Iso 3166': '788'}, {'Pais destino': 'Italy', 'subregion': 'Southern Europe', 'Codigo Iso 3166': '380'}, {'Pais destino': 'Benin', 'subregion': 'Western Africa', 'Codigo Iso 3166': '204'}, {'Pais destino': 'Indonesia', 'subregion': 'South-Eastern Asia', 'Codigo Iso 3166': '360'}, {'Pais destino': 'Cape Verde', 'subregion': 'Western Africa', 'Codigo Iso 3166': '132'}, {'Pais destino': 'Saint Kitts and Nevis', 'subregion': 'Caribbean', 'Codigo Iso 3166': '659'}, {'Pais destino': 'Laos', 'subregion': 'South-Eastern Asia', 'Codigo Iso 3166': '418'}, {'Pais destino': 'Caribbean Netherlands', 'subregion': 'Caribbean', 'Codigo Iso 3166': '535'}, {'Pais destino': 'Uganda', 'subregion': 'Eastern Africa', 'Codigo Iso 3166': '800'}, {'Pais destino': 'Andorra', 'subregion': 'Southern Europe', 'Codigo Iso 3166': '020'}, {'Pais destino': 'Burundi', 'subregion': 'Eastern Africa', 'Codigo Iso 3166': '108'}, {'Pais destino': 'South Africa', 'subregion': 'Southern Africa', 'Codigo Iso 3166': '710'}, {'Pais destino': 'France', 'subregion': 'Western Europe', 'Codigo Iso 3166': '250'}, {'Pais destino': 'Libya', 'subregion': 'Northern Africa', 'Codigo Iso 3166': '434'}, {'Pais destino': 'Mexico', 'subregion': 'North America', 'Codigo Iso 3166': '484'}, {'Pais destino': 'Gabon', 'subregion': 'Middle Africa', 'Codigo Iso 3166': '266'}, {'Pais destino': 'Northern Mariana Islands', 'subregion': 'Micronesia', 'Codigo Iso 3166': '580'}, {'Pais destino': 'North Macedonia', 'subregion': 'Southeast Europe', 'Codigo Iso 3166': '807'}, {'Pais destino': 'China', 'subregion': 'Eastern Asia', 'Codigo Iso 3166': '156'}, {'Pais destino': 'Yemen', 'subregion': 'Western Asia', 'Codigo Iso 3166': '887'}, {'Pais destino': 'Saint Barthélemy', 'subregion': 'Caribbean', 'Codigo Iso 3166': '652'}, {'Pais destino': 'Guernsey', 'subregion': 'Northern Europe', 'Codigo Iso 3166': '831'}, {'Pais destino': 'Solomon Islands', 'subregion': 'Melanesia', 'Codigo Iso 3166': '090'}, {'Pais destino': 'Svalbard and Jan Mayen', 'subregion': 'Northern Europe', 'Codigo Iso 3166': '744'}, {'Pais destino': 'Faroe Islands', 'subregion': 'Northern Europe', 'Codigo Iso 3166': '234'}, {'Pais destino': 'Uzbekistan', 'subregion': 'Central Asia', 'Codigo Iso 3166': '860'}, {'Pais destino': 'Egypt', 'subregion': 'Northern Africa', 'Codigo Iso 3166': '818'}, {'Pais destino': 'Senegal', 'subregion': 'Western Africa', 'Codigo Iso 3166': '686'}, {'Pais destino': 'Sri Lanka', 'subregion': 'Southern Asia', 'Codigo Iso 3166': '144'}, {'Pais destino': 'Palestine', 'subregion': 'Western Asia', 'Codigo Iso 3166': '275'}, {'Pais destino': 'Bangladesh', 'subregion': 'Southern Asia', 'Codigo Iso 3166': '050'}, {'Pais destino': 'Peru', 'subregion': 'South America', 'Codigo Iso 3166': '604'}, {'Pais destino': 'Singapore', 'subregion': 'South-Eastern Asia', 'Codigo Iso 3166': '702'}, {'Pais destino': 'Turkey', 'subregion': 'Western Asia', 'Codigo Iso 3166': '792'}, {'Pais destino': 'Afghanistan', 'subregion': 'Southern Asia', 'Codigo Iso 3166': '004'}, {'Pais destino': 'Aruba', 'subregion': 'Caribbean', 'Codigo Iso 3166': '533'}, {'Pais destino': 'Cook Islands', 'subregion': 'Polynesia', 'Codigo Iso 3166': '184'}, {'Pais destino': 'United Kingdom', 'subregion': 'Northern Europe', 'Codigo Iso 3166': '826'}, {'Pais destino': 'Zambia', 'subregion': 'Eastern Africa', 'Codigo Iso 3166': '894'}, {'Pais destino': 'Finland', 'subregion': 'Northern Europe', 'Codigo Iso 3166': '246'}, {'Pais destino': 'Niger', 'subregion': 'Western Africa', 'Codigo Iso 3166': '562'}, {'Pais destino': 'Christmas Island', 'subregion': 'Australia and New Zealand', 'Codigo Iso 3166': '162'}, {'Pais destino': 'Tokelau', 'subregion': 'Polynesia', 'Codigo Iso 3166': '772'}, {'Pais destino': 'Guinea-Bissau', 'subregion': 'Western Africa', 'Codigo Iso 3166': '624'}, {'Pais destino': 'Azerbaijan', 'subregion': 'Western Asia', 'Codigo Iso 3166': '031'}, {'Pais destino': 'Réunion', 'subregion': 'Eastern Africa', 'Codigo Iso 3166': '638'}, {'Pais destino': 'Djibouti', 'subregion': 'Eastern Africa', 'Codigo Iso 3166': '262'}, {'Pais destino': 'North Korea', 'subregion': 'Eastern Asia', 'Codigo Iso 3166': '408'}, {'Pais destino': 'Mauritius', 'subregion': 'Eastern Africa', 'Codigo Iso 3166': '480'}, {'Pais destino': 'Montserrat', 'subregion': 'Caribbean', 'Codigo Iso 3166': '500'}, {'Pais destino': 'United States Virgin Islands', 'subregion': 'Caribbean', 'Codigo Iso 3166': '850'}, {'Pais destino': 'Colombia', 'subregion': 'South America', 'Codigo Iso 3166': '170'}, {'Pais destino': 'Greece', 'subregion': 'Southern Europe', 'Codigo Iso 3166': '300'}, {'Pais destino': 'Croatia', 'subregion': 'Southeast Europe', 'Codigo Iso 3166': '191'}, {'Pais destino': 'Morocco', 'subregion': 'Northern Africa', 'Codigo Iso 3166': '504'}, {'Pais destino': 'Algeria', 'subregion': 'Northern Africa', 'Codigo Iso 3166': '012'}, {'Pais destino': 'Netherlands', 'subregion': 'Western Europe', 'Codigo Iso 3166': '528'}, {'Pais destino': 'Sudan', 'subregion': 'Northern Africa', 'Codigo Iso 3166': '729'}, {'Pais destino': 'Fiji', 'subregion': 'Melanesia', 'Codigo Iso 3166': '242'}, {'Pais destino': 'Liechtenstein', 'subregion': 'Western Europe', 'Codigo Iso 3166': '438'}, {'Pais destino': 'Nepal', 'subregion': 'Southern Asia', 'Codigo Iso 3166': '524'}, {'Pais destino': 'Puerto Rico', 'subregion': 'Caribbean', 'Codigo Iso 3166': '630'}, {'Pais destino': 'Georgia', 'subregion': 'Western Asia', 'Codigo Iso 3166': '268'}, {'Pais destino': 'Pakistan', 'subregion': 'Southern Asia', 'Codigo Iso 3166': '586'}, {'Pais destino': 'Monaco', 'subregion': 'Western Europe', 'Codigo Iso 3166': '492'}, {'Pais destino': 'Botswana', 'subregion': 'Southern Africa', 'Codigo Iso 3166': '072'}, {'Pais destino': 'Lebanon', 'subregion': 'Western Asia', 'Codigo Iso 3166': '422'}, {'Pais destino': 'Papua New Guinea', 'subregion': 'Melanesia', 'Codigo Iso 3166': '598'}, {'Pais destino': 'Mayotte', 'subregion': 'Eastern Africa', 'Codigo Iso 3166': '175'}, {'Pais destino': 'Dominican Republic', 'subregion': 'Caribbean', 'Codigo Iso 3166': '214'}, {'Pais destino': 'Norfolk Island', 'subregion': 'Australia and New Zealand', 'Codigo Iso 3166': '574'}, {'Pais destino': 'Qatar', 'subregion': 'Western Asia', 'Codigo Iso 3166': '634'}, {'Pais destino': 'Madagascar', 'subregion': 'Eastern Africa', 'Codigo Iso 3166': '450'}, {'Pais destino': 'India', 'subregion': 'Southern Asia', 'Codigo Iso 3166': '356'}, {'Pais destino': 'Syria', 'subregion': 'Western Asia', 'Codigo Iso 3166': '760'}, {'Pais destino': 'Montenegro', 'subregion': 'Southeast Europe', 'Codigo Iso 3166': '499'}, {'Pais destino': 'Eswatini', 'subregion': 'Southern Africa', 'Codigo Iso 3166': '748'}, {'Pais destino': 'Paraguay', 'subregion': 'South America', 'Codigo Iso 3166': '600'}, {'Pais destino': 'El Salvador', 'subregion': 'Central America', 'Codigo Iso 3166': '222'}, {'Pais destino': 'Ukraine', 'subregion': 'Eastern Europe', 'Codigo Iso 3166': '804'}, {'Pais destino': 'Isle of Man', 'subregion': 'Northern Europe', 'Codigo Iso 3166': '833'}, {'Pais destino': 'Namibia', 'subregion': 'Southern Africa', 'Codigo Iso 3166': '516'}, {'Pais destino': 'United Arab Emirates', 'subregion': 'Western Asia', 'Codigo Iso 3166': '784'}, {'Pais destino': 'Bulgaria', 'subregion': 'Southeast Europe', 'Codigo Iso 3166': '100'}, {'Pais destino': 'Greenland', 'subregion': 'North America', 'Codigo Iso 3166': '304'}, {'Pais destino': 'Germany', 'subregion': 'Western Europe', 'Codigo Iso 3166': '276'}, {'Pais destino': 'Cambodia', 'subregion': 'South-Eastern Asia', 'Codigo Iso 3166': '116'}, {'Pais destino': 'Iraq', 'subregion': 'Western Asia', 'Codigo Iso 3166': '368'}, {'Pais destino': 'Sweden', 'subregion': 'Northern Europe', 'Codigo Iso 3166': '752'}, {'Pais destino': 'Cuba', 'subregion': 'Caribbean', 'Codigo Iso 3166': '192'}, {'Pais destino': 'Kyrgyzstan', 'subregion': 'Central Asia', 'Codigo Iso 3166': '417'}, {'Pais destino': 'Russia', 'subregion': 'Eastern Europe', 'Codigo Iso 3166': '643'}, {'Pais destino': 'Malaysia', 'subregion': 'South-Eastern Asia', 'Codigo Iso 3166': '458'}, {'Pais destino': 'São Tomé and Príncipe', 'subregion': 'Middle Africa', 'Codigo Iso 3166': '678'}, {'Pais destino': 'Cyprus', 'subregion': 'Southern Europe', 'Codigo Iso 3166': '196'}, {'Pais destino': 'Canada', 'subregion': 'North America', 'Codigo Iso 3166': '124'}, {'Pais destino': 'Malawi', 'subregion': 'Eastern Africa', 'Codigo Iso 3166': '454'}, {'Pais destino': 'Saudi Arabia', 'subregion': 'Western Asia', 'Codigo Iso 3166': '682'}, {'Pais destino': 'Bosnia and Herzegovina', 'subregion': 'Southeast Europe', 'Codigo Iso 3166': '070'}, {'Pais destino': 'Ethiopia', 'subregion': 'Eastern Africa', 'Codigo Iso 3166': '231'}, {'Pais destino': 'Spain', 'subregion': 'Southern Europe', 'Codigo Iso 3166': '724'}, {'Pais destino': 'Slovenia', 'subregion': 'Central Europe', 'Codigo Iso 3166': '705'}, {'Pais destino': 'Oman', 'subregion': 'Western Asia', 'Codigo Iso 3166': '512'}, {'Pais destino': 'Saint Pierre and Miquelon', 'subregion': 'North America', 'Codigo Iso 3166': '666'}, {'Pais destino': 'Macau', 'subregion': 'Eastern Asia', 'Codigo Iso 3166': '446'}, {'Pais destino': 'San Marino', 'subregion': 'Southern Europe', 'Codigo Iso 3166': '674'}, {'Pais destino': 'Lesotho', 'subregion': 'Southern Africa', 'Codigo Iso 3166': '426'}, {'Pais destino': 'Marshall Islands', 'subregion': 'Micronesia', 'Codigo Iso 3166': '584'}, {'Pais destino': 'Sint Maarten', 'subregion': 'Caribbean', 'Codigo Iso 3166': '534'}, {'Pais destino': 'Iceland', 'subregion': 'Northern Europe', 'Codigo Iso 3166': '352'}, {'Pais destino': 'Luxembourg', 'subregion': 'Western Europe', 'Codigo Iso 3166': '442'}, {'Pais destino': 'Argentina', 'subregion': 'South America', 'Codigo Iso 3166': '032'}, {'Pais destino': 'Turks and Caicos Islands', 'subregion': 'Caribbean', 'Codigo Iso 3166': '796'}, {'Pais destino': 'Nauru', 'subregion': 'Micronesia', 'Codigo Iso 3166': '520'}, {'Pais destino': 'Cocos (Keeling) Islands', 'subregion': 'Australia and New Zealand', 'Codigo Iso 3166': '166'}, {'Pais destino': 'Western Sahara', 'subregion': 'Northern Africa', 'Codigo Iso 3166': '732'}, {'Pais destino': 'Dominica', 'subregion': 'Caribbean', 'Codigo Iso 3166': '212'}, {'Pais destino': 'Costa Rica', 'subregion': 'Central America', 'Codigo Iso 3166': '188'}, {'Pais destino': 'Australia', 'subregion': 'Australia and New Zealand', 'Codigo Iso 3166': '036'}, {'Pais destino': 'Thailand', 'subregion': 'South-Eastern Asia', 'Codigo Iso 3166': '764'}, {'Pais destino': 'Haiti', 'subregion': 'Caribbean', 'Codigo Iso 3166': '332'}, {'Pais destino': 'Tuvalu', 'subregion': 'Polynesia', 'Codigo Iso 3166': '798'}, {'Pais destino': 'Honduras', 'subregion': 'Central America', 'Codigo Iso 3166': '340'}, {'Pais destino': 'Equatorial Guinea', 'subregion': 'Middle Africa', 'Codigo Iso 3166': '226'}, {'Pais destino': 'Saint Lucia', 'subregion': 'Caribbean', 'Codigo Iso 3166': '662'}, {'Pais destino': 'French Polynesia', 'subregion': 'Polynesia', 'Codigo Iso 3166': '258'}, {'Pais destino': 'Belarus', 'subregion': 'Eastern Europe', 'Codigo Iso 3166': '112'}, {'Pais destino': 'Latvia', 'subregion': 'Northern Europe', 'Codigo Iso 3166': '428'}, {'Pais destino': 'Palau', 'subregion': 'Micronesia', 'Codigo Iso 3166': '585'}, {'Pais destino': 'Guadeloupe', 'subregion': 'Caribbean', 'Codigo Iso 3166': '312'}, {'Pais destino': 'Philippines', 'subregion': 'South-Eastern Asia', 'Codigo Iso 3166': '608'}, {'Pais destino': 'Gibraltar', 'subregion': 'Southern Europe', 'Codigo Iso 3166': '292'}, {'Pais destino': 'Denmark', 'subregion': 'Northern Europe', 'Codigo Iso 3166': '208'}, {'Pais destino': 'Cameroon', 'subregion': 'Middle Africa', 'Codigo Iso 3166': '120'}, {'Pais destino': 'Guinea', 'subregion': 'Western Africa', 'Codigo Iso 3166': '324'}, {'Pais destino': 'Bahrain', 'subregion': 'Western Asia', 'Codigo Iso 3166': '048'}, {'Pais destino': 'Suriname', 'subregion': 'South America', 'Codigo Iso 3166': '740'}, {'Pais destino': 'DR Congo', 'subregion': 'Middle Africa', 'Codigo Iso 3166': '180'}, {'Pais destino': 'Somalia', 'subregion': 'Eastern Africa', 'Codigo Iso 3166': '706'}, {'Pais destino': 'Czechia', 'subregion': 'Central Europe', 'Codigo Iso 3166': '203'}, {'Pais destino': 'New Caledonia', 'subregion': 'Melanesia', 'Codigo Iso 3166': '540'}, {'Pais destino': 'Vanuatu', 'subregion': 'Melanesia', 'Codigo Iso 3166': '548'}, {'Pais destino': 'Saint Helena, Ascension and Tristan da Cunha', 'subregion': 'Western Africa', 'Codigo Iso 3166': '654'}, {'Pais destino': 'Togo', 'subregion': 'Western Africa', 'Codigo Iso 3166': '768'}, {'Pais destino': 'British Virgin Islands', 'subregion': 'Caribbean', 'Codigo Iso 3166': '092'}, {'Pais destino': 'Kenya', 'subregion': 'Eastern Africa', 'Codigo Iso 3166': '404'}, {'Pais destino': 'Niue', 'subregion': 'Polynesia', 'Codigo Iso 3166': '570'}, {'Pais destino': 'Rwanda', 'subregion': 'Eastern Africa', 'Codigo Iso 3166': '646'}, {'Pais destino': 'Estonia', 'subregion': 'Northern Europe', 'Codigo Iso 3166': '233'}, {'Pais destino': 'Romania', 'subregion': 'Southeast Europe', 'Codigo Iso 3166': '642'}, {'Pais destino': 'Trinidad and Tobago', 'subregion': 'Caribbean', 'Codigo Iso 3166': '780'}, {'Pais destino': 'Guyana', 'subregion': 'South America', 'Codigo Iso 3166': '328'}, {'Pais destino': 'Timor-Leste', 'subregion': 'South-Eastern Asia', 'Codigo Iso 3166': '626'}, {'Pais destino': 'Vietnam', 'subregion': 'South-Eastern Asia', 'Codigo Iso 3166': '704'}, {'Pais destino': 'Uruguay', 'subregion': 'South America', 'Codigo Iso 3166': '858'}, {'Pais destino': 'Vatican City', 'subregion': 'Southern Europe', 'Codigo Iso 3166': '336'}, {'Pais destino': 'Hong Kong', 'subregion': 'Eastern Asia', 'Codigo Iso 3166': '344'}, {'Pais destino': 'Austria', 'subregion': 'Central Europe', 'Codigo Iso 3166': '040'}, {'Pais destino': 'Antigua and Barbuda', 'subregion': 'Caribbean', 'Codigo Iso 3166': '028'}, {'Pais destino': 'Turkmenistan', 'subregion': 'Central Asia', 'Codigo Iso 3166': '795'}, {'Pais destino': 'Mozambique', 'subregion': 'Eastern Africa', 'Codigo Iso 3166': '508'}, {'Pais destino': 'Panama', 'subregion': 'Central America', 'Codigo Iso 3166': '591'}, {'Pais destino': 'Micronesia', 'subregion': 'Micronesia', 'Codigo Iso 3166': '583'}, {'Pais destino': 'Ireland', 'subregion': 'Northern Europe', 'Codigo Iso 3166': '372'}, {'Pais destino': 'Curaçao', 'subregion': 'Caribbean', 'Codigo Iso 3166': '531'}, {'Pais destino': 'French Guiana', 'subregion': 'South America', 'Codigo Iso 3166': '254'}, {'Pais destino': 'Norway', 'subregion': 'Northern Europe', 'Codigo Iso 3166': '578'}, {'Pais destino': 'Åland Islands', 'subregion': 'Northern Europe', 'Codigo Iso 3166': '248'}, {'Pais destino': 'Central African Republic', 'subregion': 'Middle Africa', 'Codigo Iso 3166': '140'}, {'Pais destino': 'Burkina Faso', 'subregion': 'Western Africa', 'Codigo Iso 3166': '854'}, {'Pais destino': 'Eritrea', 'subregion': 'Eastern Africa', 'Codigo Iso 3166': '232'}, {'Pais destino': 'Tanzania', 'subregion': 'Eastern Africa', 'Codigo Iso 3166': '834'}, {'Pais destino': 'South Korea', 'subregion': 'Eastern Asia', 'Codigo Iso 3166': '410'}, {'Pais destino': 'Jordan', 'subregion': 'Western Asia', 'Codigo Iso 3166': '400'}, {'Pais destino': 'Mauritania', 'subregion': 'Western Africa', 'Codigo Iso 3166': '478'}, {'Pais destino': 'Lithuania', 'subregion': 'Northern Europe', 'Codigo Iso 3166': '440'}, {'Pais destino': 'United States Minor Outlying Islands', 'subregion': 'North America', 'Codigo Iso 3166': '581'}, {'Pais destino': 'Slovakia', 'subregion': 'Central Europe', 'Codigo Iso 3166': '703'}, {'Pais destino': 'Angola', 'subregion': 'Middle Africa', 'Codigo Iso 3166': '024'}, {'Pais destino': 'Kazakhstan', 'subregion': 'Central Asia', 'Codigo Iso 3166': '398'}, {'Pais destino': 'Moldova', 'subregion': 'Eastern Europe', 'Codigo Iso 3166': '498'}, {'Pais destino': 'Mali', 'subregion': 'Western Africa', 'Codigo Iso 3166': '466'}, {'Pais destino': 'Falkland Islands', 'subregion': 'South America', 'Codigo Iso 3166': '238'}, {'Pais destino': 'Armenia', 'subregion': 'Western Asia', 'Codigo Iso 3166': '051'}, {'Pais destino': 'Samoa', 'subregion': 'Polynesia', 'Codigo Iso 3166': '882'}, {'Pais destino': 'Jersey', 'subregion': 'Northern Europe', 'Codigo Iso 3166': '832'}, {'Pais destino': 'Japan', 'subregion': 'Eastern Asia', 'Codigo Iso 3166': '392'}, {'Pais destino': 'Bolivia', 'subregion': 'South America', 'Codigo Iso 3166': '068'}, {'Pais destino': 'Chile', 'subregion': 'South America', 'Codigo Iso 3166': '152'}, {'Pais destino': 'United States', 'subregion': 'North America', 'Codigo Iso 3166': '840'}, {'Pais destino': 'Saint Vincent and the Grenadines', 'subregion': 'Caribbean', 'Codigo Iso 3166': '670'}, {'Pais destino': 'Bermuda', 'subregion': 'North America', 'Codigo Iso 3166': '060'}, {'Pais destino': 'Seychelles', 'subregion': 'Eastern Africa', 'Codigo Iso 3166': '690'}, {'Pais destino': 'British Indian Ocean Territory', 'subregion': 'Eastern Africa', 'Codigo Iso 3166': '086'}, {'Pais destino': 'Guatemala', 'subregion': 'Central America', 'Codigo Iso 3166': '320'}, {'Pais destino': 'Ecuador', 'subregion': 'South America', 'Codigo Iso 3166': '218'}, {'Pais destino': 'Martinique', 'subregion': 'Caribbean', 'Codigo Iso 3166': '474'}, {'Pais destino': 'Tajikistan', 'subregion': 'Central Asia', 'Codigo Iso 3166': '762'}, {'Pais destino': 'Malta', 'subregion': 'Southern Europe', 'Codigo Iso 3166': '470'}, {'Pais destino': 'Gambia', 'subregion': 'Western Africa', 'Codigo Iso 3166': '270'}, {'Pais destino': 'Nigeria', 'subregion': 'Western Africa', 'Codigo Iso 3166': '566'}, {'Pais destino': 'Bahamas', 'subregion': 'Caribbean', 'Codigo Iso 3166': '044'}, {'Pais destino': 'Kuwait', 'subregion': 'Western Asia', 'Codigo Iso 3166': '414'}, {'Pais destino': 'Maldives', 'subregion': 'Southern Asia', 'Codigo Iso 3166': '462'}, {'Pais destino': 'South Sudan', 'subregion': 'Middle Africa', 'Codigo Iso 3166': '728'}, {'Pais destino': 'Iran', 'subregion': 'Southern Asia', 'Codigo Iso 3166': '364'}, {'Pais destino': 'Albania', 'subregion': 'Southeast Europe', 'Codigo Iso 3166': '008'}, {'Pais destino': 'Brazil', 'subregion': 'South America', 'Codigo Iso 3166': '076'}, {'Pais destino': 'Serbia', 'subregion': 'Southeast Europe', 'Codigo Iso 3166': '688'}, {'Pais destino': 'Belize', 'subregion': 'Central America', 'Codigo Iso 3166': '084'}, {'Pais destino': 'Myanmar', 'subregion': 'South-Eastern Asia', 'Codigo Iso 3166': '104'}, {'Pais destino': 'Bhutan', 'subregion': 'Southern Asia', 'Codigo Iso 3166': '064'}, {'Pais destino': 'Venezuela', 'subregion': 'South America', 'Codigo Iso 3166': '862'}, {'Pais destino': 'Liberia', 'subregion': 'Western Africa', 'Codigo Iso 3166': '430'}, {'Pais destino': 'Jamaica', 'subregion': 'Caribbean', 'Codigo Iso 3166': '388'}, {'Pais destino': 'Poland', 'subregion': 'Central Europe', 'Codigo Iso 3166': '616'}, {'Pais destino': 'Cayman Islands', 'subregion': 'Caribbean', 'Codigo Iso 3166': '136'}, {'Pais destino': 'Brunei', 'subregion': 'South-Eastern Asia', 'Codigo Iso 3166': '096'}, {'Pais destino': 'Comoros', 'subregion': 'Eastern Africa', 'Codigo Iso 3166': '174'}, {'Pais destino': 'Guam', 'subregion': 'Micronesia', 'Codigo Iso 3166': '316'}, {'Pais destino': 'Tonga', 'subregion': 'Polynesia', 'Codigo Iso 3166': '776'}, {'Pais destino': 'Kiribati', 'subregion': 'Micronesia', 'Codigo Iso 3166': '296'}, {'Pais destino': 'Ghana', 'subregion': 'Western Africa', 'Codigo Iso 3166': '288'}, {'Pais destino': 'Chad', 'subregion': 'Middle Africa', 'Codigo Iso 3166': '148'}, {'Pais destino': 'Zimbabwe', 'subregion': 'Southern Africa', 'Codigo Iso 3166': '716'}, {'Pais destino': 'Saint Martin', 'subregion': 'Caribbean', 'Codigo Iso 3166': '663'}, {'Pais destino': 'Mongolia', 'subregion': 'Eastern Asia', 'Codigo Iso 3166': '496'}, {'Pais destino': 'Portugal', 'subregion': 'Southern Europe', 'Codigo Iso 3166': '620'}, {'Pais destino': 'American Samoa', 'subregion': 'Polynesia', 'Codigo Iso 3166': '016'}, {'Pais destino': 'Republic of the Congo', 'subregion': 'Middle Africa', 'Codigo Iso 3166': '178'}, {'Pais destino': 'Belgium', 'subregion': 'Western Europe', 'Codigo Iso 3166': '056'}, {'Pais destino': 'Israel', 'subregion': 'Western Asia', 'Codigo Iso 3166': '376'}, {'Pais destino': 'New Zealand', 'subregion': 'Australia and New Zealand', 'Codigo Iso 3166': '554'}, {'Pais destino': 'Nicaragua', 'subregion': 'Central America', 'Codigo Iso 3166': '558'}, {'Pais destino': 'Anguilla', 'subregion': 'Caribbean', 'Codigo Iso 3166': '660'}]\n"
          ]
        }
      ]
    },
    {
      "cell_type": "code",
      "source": [
        "# Crear un diccionario para mapear el código ISO 3166-1 a la subregión\n",
        "iso_to_subregion = {entry['Codigo Iso 3166']: entry['subregion'] for entry in json_list}\n",
        "\n",
        "# Mostrar una muestra del diccionario para verificar\n",
        "print(list(iso_to_subregion.items())[:10])\n"
      ],
      "metadata": {
        "colab": {
          "base_uri": "https://localhost:8080/"
        },
        "id": "PJxzlrup257A",
        "outputId": "f3244505-5e27-4728-a8fe-4c51faee24c0"
      },
      "execution_count": 48,
      "outputs": [
        {
          "output_type": "stream",
          "name": "stdout",
          "text": [
            "[('308', 'Caribbean'), ('756', 'Western Europe'), ('694', 'Western Africa'), ('348', 'Central Europe'), ('158', 'Eastern Asia'), ('876', 'Polynesia'), ('052', 'Caribbean'), ('612', 'Polynesia'), ('384', 'Western Africa'), ('788', 'Northern Africa')]\n"
          ]
        }
      ]
    },
    {
      "cell_type": "markdown",
      "source": [
        "Utilizando la columna 'Codigo Iso 3166' del DataFrame salidas_df se mapea la subregión correspondiente a cada país utilizando el diccionario iso_to_subregion, que se construyó previamente a partir del JSON descargado de la API de REST Countries."
      ],
      "metadata": {
        "id": "umor0tnHh2xA"
      }
    },
    {
      "cell_type": "code",
      "source": [
        "# Asegurarse de que las claves del diccionario 'iso_to_subregion' también son cadenas de texto\n",
        "iso_to_subregion = {str(k): v for k, v in iso_to_subregion.items()}\n",
        "\n",
        "# Aplicar el mapeo  con el tipo de dato corregido\n",
        "salidas_df['subregion'] = salidas_df['Codigo Iso 3166'].map(iso_to_subregion)\n",
        "\n",
        "# Verificar que las subregiones hayan sido asignadas correctamente\n",
        "print(salidas_df.head())"
      ],
      "metadata": {
        "colab": {
          "base_uri": "https://localhost:8080/"
        },
        "id": "XQ_AtrvEjon5",
        "outputId": "6dbba8f0-a537-4758-978a-27ba633726f4"
      },
      "execution_count": 49,
      "outputs": [
        {
          "output_type": "stream",
          "name": "stdout",
          "text": [
            "   Year    Mes Pais-destino Codigo Iso 3166  Femenino  Masculino  Indefinido  \\\n",
            "0  2012  Enero   Afganistan               4         0          1         NaN   \n",
            "1  2012  Enero   Afganistan               4         1         20         NaN   \n",
            "2  2012  Enero     Alemania             276         1          0         NaN   \n",
            "3  2012  Enero     Alemania             276         5          2         NaN   \n",
            "4  2012  Enero     Alemania             276         3          2         NaN   \n",
            "\n",
            "   Total      Latitud - Longitud       subregion  \n",
            "0      1  (10.886611,-74.776708)             NaN  \n",
            "1     21   (4.697144,-74.140516)             NaN  \n",
            "2      1   (0.814836,-77.662532)  Western Europe  \n",
            "3      7  (10.445761,-75.516429)  Western Europe  \n",
            "4      5  (10.886611,-74.776708)  Western Europe  \n"
          ]
        }
      ]
    },
    {
      "cell_type": "markdown",
      "source": [
        "Subregiones NaN"
      ],
      "metadata": {
        "id": "0SUCopGFh_Bv"
      }
    },
    {
      "cell_type": "code",
      "source": [
        "# Identificar códigos ISO que no pudieron ser mapeados\n",
        "codigos_no_mapeados = salidas_df[salidas_df['subregion'].isna()]['Codigo Iso 3166'].unique()\n",
        "\n",
        "print(\"Códigos ISO que no pudieron ser mapeados:\")\n",
        "print(codigos_no_mapeados)\n"
      ],
      "metadata": {
        "colab": {
          "base_uri": "https://localhost:8080/"
        },
        "id": "of8w-sBb3Ntn",
        "outputId": "8dbbfcf9-e124-4c5d-f318-0bfa243a80fb"
      },
      "execution_count": 50,
      "outputs": [
        {
          "output_type": "stream",
          "name": "stdout",
          "text": [
            "Códigos ISO que no pudieron ser mapeados:\n",
            "['4' '20' '24' '28' '12' '32' '36' '40' '31' '44' '48' '50' '52' '56' '84'\n",
            " '60' '68' '72' '76' '96' '99999' '736' '92' '8' '51' '70' '90' '16' '10'\n",
            " '64' '334' '86']\n"
          ]
        }
      ]
    },
    {
      "cell_type": "markdown",
      "source": [
        "Se completa el  Diccionario de Mapeo Manualmente\n",
        "Se colocan los códigos ISO faltantes al diccionario iso_to_subregion."
      ],
      "metadata": {
        "id": "MQ-xa0piknk0"
      }
    },
    {
      "cell_type": "code",
      "source": [
        "# Completar el diccionario con los códigos ISO que no fueron mapeados\n",
        "iso_to_subregion.update({\n",
        "    '4': 'Southern Asia',           # Afghanistan\n",
        "    '20': 'Northern Africa',        # Andorra\n",
        "    '24': 'Sub-Saharan Africa',     # Angola\n",
        "    '28': 'Caribbean',              # Antigua and Barbuda\n",
        "    '12': 'Northern Africa',        # Algeria\n",
        "    '32': 'South America',          # Argentina\n",
        "    '36': 'Australia and New Zealand', # Australia\n",
        "    '40': 'Western Europe',         # Austria\n",
        "    '31': 'Western Asia',           # Azerbaijan\n",
        "    '44': 'Caribbean',              # Bahamas\n",
        "    '48': 'Western Asia',           # Bahrain\n",
        "    '50': 'Southern Asia',          # Bangladesh\n",
        "    '52': 'Caribbean',              # Barbados\n",
        "    '56': 'Western Europe',         # Belgium\n",
        "    '84': 'Central America',        # Belize\n",
        "    '60': 'Caribbean',              # Bermuda\n",
        "    '68': 'South America',          # Bolivia\n",
        "    '72': 'Sub-Saharan Africa',     # Botswana\n",
        "    '76': 'South America',          # Brazil\n",
        "    '96': 'South-Eastern Asia',     # Brunei\n",
        "    '736': 'Northern Africa',       # Sudan\n",
        "    '92': 'Caribbean',              # British Virgin Islands\n",
        "    '8': 'Southern Europe',         # Albania\n",
        "    '51': 'Western Asia',           # Armenia\n",
        "    '70': 'Southern Europe',        # Bosnia and Herzegovina\n",
        "    '90': 'Melanesia',              # Solomon Islands\n",
        "    '16': 'Polynesia',              # American Samoa\n",
        "    '10': 'Antarctica',             # Antarctica\n",
        "    '64': 'Southern Asia',          # Bhutan\n",
        "    '334': 'Antarctica',            # Bouvet Island\n",
        "    '86': 'Antarctica',             # Heard Island and McDonald Islands\n",
        "   })"
      ],
      "metadata": {
        "id": "W_F57yDnkIEr"
      },
      "execution_count": 51,
      "outputs": []
    },
    {
      "cell_type": "markdown",
      "source": [
        "Se aplica de Nuevo el Mapeo y se verifica ausencias de NaN"
      ],
      "metadata": {
        "id": "qo0gYcvHkypi"
      }
    },
    {
      "cell_type": "code",
      "source": [
        "# Aplicar el mapeo para obtener la subregión usando el código ISO 3166\n",
        "salidas_df['subregion'] = salidas_df['Codigo Iso 3166'].map(iso_to_subregion)\n",
        "\n",
        "# Verificar que las subregiones hayan sido asignadas correctamente\n",
        "print(salidas_df.head())"
      ],
      "metadata": {
        "colab": {
          "base_uri": "https://localhost:8080/"
        },
        "id": "WeMG57WU4LJi",
        "outputId": "28ec8ea9-fb9c-4c2c-ac8e-b65384895ca7"
      },
      "execution_count": 52,
      "outputs": [
        {
          "output_type": "stream",
          "name": "stdout",
          "text": [
            "   Year    Mes Pais-destino Codigo Iso 3166  Femenino  Masculino  Indefinido  \\\n",
            "0  2012  Enero   Afganistan               4         0          1         NaN   \n",
            "1  2012  Enero   Afganistan               4         1         20         NaN   \n",
            "2  2012  Enero     Alemania             276         1          0         NaN   \n",
            "3  2012  Enero     Alemania             276         5          2         NaN   \n",
            "4  2012  Enero     Alemania             276         3          2         NaN   \n",
            "\n",
            "   Total      Latitud - Longitud       subregion  \n",
            "0      1  (10.886611,-74.776708)   Southern Asia  \n",
            "1     21   (4.697144,-74.140516)   Southern Asia  \n",
            "2      1   (0.814836,-77.662532)  Western Europe  \n",
            "3      7  (10.445761,-75.516429)  Western Europe  \n",
            "4      5  (10.886611,-74.776708)  Western Europe  \n"
          ]
        }
      ]
    },
    {
      "cell_type": "code",
      "source": [
        "# Identificar códigos ISO que no pudieron ser mapeados\n",
        "codigos_no_mapeados = salidas_df[salidas_df['subregion'].isna()]['Codigo Iso 3166'].unique()\n",
        "\n",
        "print(\"Códigos ISO que no pudieron ser mapeados:\")\n",
        "print(codigos_no_mapeados)"
      ],
      "metadata": {
        "colab": {
          "base_uri": "https://localhost:8080/"
        },
        "id": "pKbSmODWlKA9",
        "outputId": "4cd74782-41ed-4ca7-fc69-98d712c72623"
      },
      "execution_count": 53,
      "outputs": [
        {
          "output_type": "stream",
          "name": "stdout",
          "text": [
            "Códigos ISO que no pudieron ser mapeados:\n",
            "['99999']\n"
          ]
        }
      ]
    },
    {
      "cell_type": "markdown",
      "source": [
        "Salida de un DataFrame con las siguientes columnas:\n",
        "**año,subregion,total**\n",
        "En donde la subregión es la subregión del mundo hacia la cuál salieron los colombianos en ese año, y total es el total de viajes registrados por Migración Colombia durante el año"
      ],
      "metadata": {
        "id": "HK3MAXfClaq1"
      }
    },
    {
      "cell_type": "code",
      "source": [
        "# Agrupar los datos por año y subregión, sumando el total de salidas\n",
        "aggregated_df = salidas_df.groupby(['Year', 'subregion']).agg(total=('Total', 'sum')).reset_index()\n",
        "\n",
        "# Renombrar las columnas para cumplir con el formato solicitado\n",
        "aggregated_df.columns = ['año', 'subregion', 'total']\n",
        "\n",
        "# Mostrar el DataFrame resultante\n",
        "print(aggregated_df.head())\n",
        "\n",
        "# Guardar el DataFrame en un archivo CSV\n",
        "output_path = 'resultado_agregado_salidas.csv'\n",
        "aggregated_df.to_csv(output_path, sep=';', index=False)\n",
        "\n",
        "print(f\"Archivo guardado exitosamente en: {output_path}\")"
      ],
      "metadata": {
        "colab": {
          "base_uri": "https://localhost:8080/"
        },
        "id": "qgmrjZSkk9dg",
        "outputId": "8ef380e0-196e-4ec5-9e35-38480e5adc52"
      },
      "execution_count": 54,
      "outputs": [
        {
          "output_type": "stream",
          "name": "stdout",
          "text": [
            "    año                  subregion   total\n",
            "0  2012  Australia and New Zealand    6190\n",
            "1  2012                  Caribbean  121803\n",
            "2  2012            Central America  409359\n",
            "3  2012               Central Asia      35\n",
            "4  2012             Central Europe     791\n",
            "Archivo guardado exitosamente en: resultado_agregado_salidas.csv\n"
          ]
        }
      ]
    }
  ]
}